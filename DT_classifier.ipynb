{
  "nbformat": 4,
  "nbformat_minor": 0,
  "metadata": {
    "colab": {
      "name": "DT_classifier.ipynb",
      "provenance": []
    },
    "kernelspec": {
      "name": "python3",
      "display_name": "Python 3"
    }
  },
  "cells": [
    {
      "metadata": {
        "id": "Pti7ttxZgXWC"
      },
      "cell_type": "markdown",
      "source": [
        "## Imports"
      ]
    },
    {
      "metadata": {
        "id": "xncs80ZmO6cy"
      },
      "cell_type": "code",
      "source": [
        "import numpy as np\n",
        "import pandas as pd\n",
        "import matplotlib.pyplot as plt\n",
        "import seaborn as sns\n",
        "%matplotlib inline"
      ],
      "execution_count": 1,
      "outputs": []
    },
    {
      "metadata": {
        "id": "YdNYNj3EgaNq"
      },
      "cell_type": "markdown",
      "source": [
        "## Importing the dataset"
      ]
    },
    {
      "metadata": {
        "id": "ftZJbtXUPQS0"
      },
      "cell_type": "code",
      "source": [
        "df  = pd.read_csv('https://archive.ics.uci.edu/ml/machine-learning-databases/balance-scale/balance-scale.data', header=None, names=['Class Name', 'Left-Weight', 'Left-Distance', 'Right-Weight', 'Right-Distance'])"
      ],
      "execution_count": 2,
      "outputs": []
    },
    {
      "metadata": {
        "id": "Jc-tgLmyPYBa",
        "colab": {
          "base_uri": "https://localhost:8080/",
          "height": 206
        },
        "outputId": "d1fe994c-7361-4c2c-f385-3ea4dfd81783"
      },
      "cell_type": "code",
      "source": [
        "df.head()"
      ],
      "execution_count": 3,
      "outputs": [
        {
          "output_type": "execute_result",
          "data": {
            "text/plain": [
              "  Class Name  Left-Weight  Left-Distance  Right-Weight  Right-Distance\n",
              "0          B            1              1             1               1\n",
              "1          R            1              1             1               2\n",
              "2          R            1              1             1               3\n",
              "3          R            1              1             1               4\n",
              "4          R            1              1             1               5"
            ],
            "text/html": [
              "\n",
              "  <div id=\"df-97ef9159-c9be-43a6-8a12-584dc85f01c3\">\n",
              "    <div class=\"colab-df-container\">\n",
              "      <div>\n",
              "<style scoped>\n",
              "    .dataframe tbody tr th:only-of-type {\n",
              "        vertical-align: middle;\n",
              "    }\n",
              "\n",
              "    .dataframe tbody tr th {\n",
              "        vertical-align: top;\n",
              "    }\n",
              "\n",
              "    .dataframe thead th {\n",
              "        text-align: right;\n",
              "    }\n",
              "</style>\n",
              "<table border=\"1\" class=\"dataframe\">\n",
              "  <thead>\n",
              "    <tr style=\"text-align: right;\">\n",
              "      <th></th>\n",
              "      <th>Class Name</th>\n",
              "      <th>Left-Weight</th>\n",
              "      <th>Left-Distance</th>\n",
              "      <th>Right-Weight</th>\n",
              "      <th>Right-Distance</th>\n",
              "    </tr>\n",
              "  </thead>\n",
              "  <tbody>\n",
              "    <tr>\n",
              "      <th>0</th>\n",
              "      <td>B</td>\n",
              "      <td>1</td>\n",
              "      <td>1</td>\n",
              "      <td>1</td>\n",
              "      <td>1</td>\n",
              "    </tr>\n",
              "    <tr>\n",
              "      <th>1</th>\n",
              "      <td>R</td>\n",
              "      <td>1</td>\n",
              "      <td>1</td>\n",
              "      <td>1</td>\n",
              "      <td>2</td>\n",
              "    </tr>\n",
              "    <tr>\n",
              "      <th>2</th>\n",
              "      <td>R</td>\n",
              "      <td>1</td>\n",
              "      <td>1</td>\n",
              "      <td>1</td>\n",
              "      <td>3</td>\n",
              "    </tr>\n",
              "    <tr>\n",
              "      <th>3</th>\n",
              "      <td>R</td>\n",
              "      <td>1</td>\n",
              "      <td>1</td>\n",
              "      <td>1</td>\n",
              "      <td>4</td>\n",
              "    </tr>\n",
              "    <tr>\n",
              "      <th>4</th>\n",
              "      <td>R</td>\n",
              "      <td>1</td>\n",
              "      <td>1</td>\n",
              "      <td>1</td>\n",
              "      <td>5</td>\n",
              "    </tr>\n",
              "  </tbody>\n",
              "</table>\n",
              "</div>\n",
              "      <button class=\"colab-df-convert\" onclick=\"convertToInteractive('df-97ef9159-c9be-43a6-8a12-584dc85f01c3')\"\n",
              "              title=\"Convert this dataframe to an interactive table.\"\n",
              "              style=\"display:none;\">\n",
              "        \n",
              "  <svg xmlns=\"http://www.w3.org/2000/svg\" height=\"24px\"viewBox=\"0 0 24 24\"\n",
              "       width=\"24px\">\n",
              "    <path d=\"M0 0h24v24H0V0z\" fill=\"none\"/>\n",
              "    <path d=\"M18.56 5.44l.94 2.06.94-2.06 2.06-.94-2.06-.94-.94-2.06-.94 2.06-2.06.94zm-11 1L8.5 8.5l.94-2.06 2.06-.94-2.06-.94L8.5 2.5l-.94 2.06-2.06.94zm10 10l.94 2.06.94-2.06 2.06-.94-2.06-.94-.94-2.06-.94 2.06-2.06.94z\"/><path d=\"M17.41 7.96l-1.37-1.37c-.4-.4-.92-.59-1.43-.59-.52 0-1.04.2-1.43.59L10.3 9.45l-7.72 7.72c-.78.78-.78 2.05 0 2.83L4 21.41c.39.39.9.59 1.41.59.51 0 1.02-.2 1.41-.59l7.78-7.78 2.81-2.81c.8-.78.8-2.07 0-2.86zM5.41 20L4 18.59l7.72-7.72 1.47 1.35L5.41 20z\"/>\n",
              "  </svg>\n",
              "      </button>\n",
              "      \n",
              "  <style>\n",
              "    .colab-df-container {\n",
              "      display:flex;\n",
              "      flex-wrap:wrap;\n",
              "      gap: 12px;\n",
              "    }\n",
              "\n",
              "    .colab-df-convert {\n",
              "      background-color: #E8F0FE;\n",
              "      border: none;\n",
              "      border-radius: 50%;\n",
              "      cursor: pointer;\n",
              "      display: none;\n",
              "      fill: #1967D2;\n",
              "      height: 32px;\n",
              "      padding: 0 0 0 0;\n",
              "      width: 32px;\n",
              "    }\n",
              "\n",
              "    .colab-df-convert:hover {\n",
              "      background-color: #E2EBFA;\n",
              "      box-shadow: 0px 1px 2px rgba(60, 64, 67, 0.3), 0px 1px 3px 1px rgba(60, 64, 67, 0.15);\n",
              "      fill: #174EA6;\n",
              "    }\n",
              "\n",
              "    [theme=dark] .colab-df-convert {\n",
              "      background-color: #3B4455;\n",
              "      fill: #D2E3FC;\n",
              "    }\n",
              "\n",
              "    [theme=dark] .colab-df-convert:hover {\n",
              "      background-color: #434B5C;\n",
              "      box-shadow: 0px 1px 3px 1px rgba(0, 0, 0, 0.15);\n",
              "      filter: drop-shadow(0px 1px 2px rgba(0, 0, 0, 0.3));\n",
              "      fill: #FFFFFF;\n",
              "    }\n",
              "  </style>\n",
              "\n",
              "      <script>\n",
              "        const buttonEl =\n",
              "          document.querySelector('#df-97ef9159-c9be-43a6-8a12-584dc85f01c3 button.colab-df-convert');\n",
              "        buttonEl.style.display =\n",
              "          google.colab.kernel.accessAllowed ? 'block' : 'none';\n",
              "\n",
              "        async function convertToInteractive(key) {\n",
              "          const element = document.querySelector('#df-97ef9159-c9be-43a6-8a12-584dc85f01c3');\n",
              "          const dataTable =\n",
              "            await google.colab.kernel.invokeFunction('convertToInteractive',\n",
              "                                                     [key], {});\n",
              "          if (!dataTable) return;\n",
              "\n",
              "          const docLinkHtml = 'Like what you see? Visit the ' +\n",
              "            '<a target=\"_blank\" href=https://colab.research.google.com/notebooks/data_table.ipynb>data table notebook</a>'\n",
              "            + ' to learn more about interactive tables.';\n",
              "          element.innerHTML = '';\n",
              "          dataTable['output_type'] = 'display_data';\n",
              "          await google.colab.output.renderOutput(dataTable, element);\n",
              "          const docLink = document.createElement('div');\n",
              "          docLink.innerHTML = docLinkHtml;\n",
              "          element.appendChild(docLink);\n",
              "        }\n",
              "      </script>\n",
              "    </div>\n",
              "  </div>\n",
              "  "
            ]
          },
          "metadata": {},
          "execution_count": 3
        }
      ]
    },
    {
      "metadata": {
        "id": "7Dkd6jFoXaEu",
        "colab": {
          "base_uri": "https://localhost:8080/"
        },
        "outputId": "c351d5f5-28c8-46e8-b5bf-512d08f63fbe"
      },
      "cell_type": "code",
      "source": [
        "print('Shape of our dataset')\n",
        "df.shape"
      ],
      "execution_count": 4,
      "outputs": [
        {
          "output_type": "stream",
          "name": "stdout",
          "text": [
            "Shape of our dataset\n"
          ]
        },
        {
          "output_type": "execute_result",
          "data": {
            "text/plain": [
              "(625, 5)"
            ]
          },
          "metadata": {},
          "execution_count": 4
        }
      ]
    },
    {
      "metadata": {
        "id": "88T5Edw6XcJH",
        "colab": {
          "base_uri": "https://localhost:8080/"
        },
        "outputId": "0a2f6e3f-723b-449a-ae3f-ee0601e2c03c"
      },
      "cell_type": "code",
      "source": [
        "print('Size of our dataset')\n",
        "df.size"
      ],
      "execution_count": 5,
      "outputs": [
        {
          "output_type": "stream",
          "name": "stdout",
          "text": [
            "Size of our dataset\n"
          ]
        },
        {
          "output_type": "execute_result",
          "data": {
            "text/plain": [
              "3125"
            ]
          },
          "metadata": {},
          "execution_count": 5
        }
      ]
    },
    {
      "metadata": {
        "id": "WVzmFinTPYza",
        "colab": {
          "base_uri": "https://localhost:8080/"
        },
        "outputId": "cfa95af5-1e2d-4f8f-d7b4-75c19eb28797"
      },
      "cell_type": "code",
      "source": [
        "print('Here\\'s the information about our DataFrame including the index dtype and column dtypes, non-null values and memory usage')\n",
        "df.info()"
      ],
      "execution_count": 6,
      "outputs": [
        {
          "output_type": "stream",
          "name": "stdout",
          "text": [
            "Here's the information about our DataFrame including the index dtype and column dtypes, non-null values and memory usage\n",
            "<class 'pandas.core.frame.DataFrame'>\n",
            "RangeIndex: 625 entries, 0 to 624\n",
            "Data columns (total 5 columns):\n",
            " #   Column          Non-Null Count  Dtype \n",
            "---  ------          --------------  ----- \n",
            " 0   Class Name      625 non-null    object\n",
            " 1   Left-Weight     625 non-null    int64 \n",
            " 2   Left-Distance   625 non-null    int64 \n",
            " 3   Right-Weight    625 non-null    int64 \n",
            " 4   Right-Distance  625 non-null    int64 \n",
            "dtypes: int64(4), object(1)\n",
            "memory usage: 24.5+ KB\n"
          ]
        }
      ]
    },
    {
      "metadata": {
        "id": "wLsF04zBRE30",
        "colab": {
          "base_uri": "https://localhost:8080/",
          "height": 412
        },
        "outputId": "6b477693-7113-4ea4-d30b-736b4a257ed7"
      },
      "cell_type": "code",
      "source": [
        "print('Statistical description of our dataset')\n",
        "df.describe(include='all')"
      ],
      "execution_count": 7,
      "outputs": [
        {
          "output_type": "stream",
          "name": "stdout",
          "text": [
            "Statistical description of our dataset\n"
          ]
        },
        {
          "output_type": "execute_result",
          "data": {
            "text/plain": [
              "       Class Name  Left-Weight  Left-Distance  Right-Weight  Right-Distance\n",
              "count         625   625.000000     625.000000    625.000000      625.000000\n",
              "unique          3          NaN            NaN           NaN             NaN\n",
              "top             R          NaN            NaN           NaN             NaN\n",
              "freq          288          NaN            NaN           NaN             NaN\n",
              "mean          NaN     3.000000       3.000000      3.000000        3.000000\n",
              "std           NaN     1.415346       1.415346      1.415346        1.415346\n",
              "min           NaN     1.000000       1.000000      1.000000        1.000000\n",
              "25%           NaN     2.000000       2.000000      2.000000        2.000000\n",
              "50%           NaN     3.000000       3.000000      3.000000        3.000000\n",
              "75%           NaN     4.000000       4.000000      4.000000        4.000000\n",
              "max           NaN     5.000000       5.000000      5.000000        5.000000"
            ],
            "text/html": [
              "\n",
              "  <div id=\"df-aeed3821-2149-47a5-b471-d3770c73547d\">\n",
              "    <div class=\"colab-df-container\">\n",
              "      <div>\n",
              "<style scoped>\n",
              "    .dataframe tbody tr th:only-of-type {\n",
              "        vertical-align: middle;\n",
              "    }\n",
              "\n",
              "    .dataframe tbody tr th {\n",
              "        vertical-align: top;\n",
              "    }\n",
              "\n",
              "    .dataframe thead th {\n",
              "        text-align: right;\n",
              "    }\n",
              "</style>\n",
              "<table border=\"1\" class=\"dataframe\">\n",
              "  <thead>\n",
              "    <tr style=\"text-align: right;\">\n",
              "      <th></th>\n",
              "      <th>Class Name</th>\n",
              "      <th>Left-Weight</th>\n",
              "      <th>Left-Distance</th>\n",
              "      <th>Right-Weight</th>\n",
              "      <th>Right-Distance</th>\n",
              "    </tr>\n",
              "  </thead>\n",
              "  <tbody>\n",
              "    <tr>\n",
              "      <th>count</th>\n",
              "      <td>625</td>\n",
              "      <td>625.000000</td>\n",
              "      <td>625.000000</td>\n",
              "      <td>625.000000</td>\n",
              "      <td>625.000000</td>\n",
              "    </tr>\n",
              "    <tr>\n",
              "      <th>unique</th>\n",
              "      <td>3</td>\n",
              "      <td>NaN</td>\n",
              "      <td>NaN</td>\n",
              "      <td>NaN</td>\n",
              "      <td>NaN</td>\n",
              "    </tr>\n",
              "    <tr>\n",
              "      <th>top</th>\n",
              "      <td>R</td>\n",
              "      <td>NaN</td>\n",
              "      <td>NaN</td>\n",
              "      <td>NaN</td>\n",
              "      <td>NaN</td>\n",
              "    </tr>\n",
              "    <tr>\n",
              "      <th>freq</th>\n",
              "      <td>288</td>\n",
              "      <td>NaN</td>\n",
              "      <td>NaN</td>\n",
              "      <td>NaN</td>\n",
              "      <td>NaN</td>\n",
              "    </tr>\n",
              "    <tr>\n",
              "      <th>mean</th>\n",
              "      <td>NaN</td>\n",
              "      <td>3.000000</td>\n",
              "      <td>3.000000</td>\n",
              "      <td>3.000000</td>\n",
              "      <td>3.000000</td>\n",
              "    </tr>\n",
              "    <tr>\n",
              "      <th>std</th>\n",
              "      <td>NaN</td>\n",
              "      <td>1.415346</td>\n",
              "      <td>1.415346</td>\n",
              "      <td>1.415346</td>\n",
              "      <td>1.415346</td>\n",
              "    </tr>\n",
              "    <tr>\n",
              "      <th>min</th>\n",
              "      <td>NaN</td>\n",
              "      <td>1.000000</td>\n",
              "      <td>1.000000</td>\n",
              "      <td>1.000000</td>\n",
              "      <td>1.000000</td>\n",
              "    </tr>\n",
              "    <tr>\n",
              "      <th>25%</th>\n",
              "      <td>NaN</td>\n",
              "      <td>2.000000</td>\n",
              "      <td>2.000000</td>\n",
              "      <td>2.000000</td>\n",
              "      <td>2.000000</td>\n",
              "    </tr>\n",
              "    <tr>\n",
              "      <th>50%</th>\n",
              "      <td>NaN</td>\n",
              "      <td>3.000000</td>\n",
              "      <td>3.000000</td>\n",
              "      <td>3.000000</td>\n",
              "      <td>3.000000</td>\n",
              "    </tr>\n",
              "    <tr>\n",
              "      <th>75%</th>\n",
              "      <td>NaN</td>\n",
              "      <td>4.000000</td>\n",
              "      <td>4.000000</td>\n",
              "      <td>4.000000</td>\n",
              "      <td>4.000000</td>\n",
              "    </tr>\n",
              "    <tr>\n",
              "      <th>max</th>\n",
              "      <td>NaN</td>\n",
              "      <td>5.000000</td>\n",
              "      <td>5.000000</td>\n",
              "      <td>5.000000</td>\n",
              "      <td>5.000000</td>\n",
              "    </tr>\n",
              "  </tbody>\n",
              "</table>\n",
              "</div>\n",
              "      <button class=\"colab-df-convert\" onclick=\"convertToInteractive('df-aeed3821-2149-47a5-b471-d3770c73547d')\"\n",
              "              title=\"Convert this dataframe to an interactive table.\"\n",
              "              style=\"display:none;\">\n",
              "        \n",
              "  <svg xmlns=\"http://www.w3.org/2000/svg\" height=\"24px\"viewBox=\"0 0 24 24\"\n",
              "       width=\"24px\">\n",
              "    <path d=\"M0 0h24v24H0V0z\" fill=\"none\"/>\n",
              "    <path d=\"M18.56 5.44l.94 2.06.94-2.06 2.06-.94-2.06-.94-.94-2.06-.94 2.06-2.06.94zm-11 1L8.5 8.5l.94-2.06 2.06-.94-2.06-.94L8.5 2.5l-.94 2.06-2.06.94zm10 10l.94 2.06.94-2.06 2.06-.94-2.06-.94-.94-2.06-.94 2.06-2.06.94z\"/><path d=\"M17.41 7.96l-1.37-1.37c-.4-.4-.92-.59-1.43-.59-.52 0-1.04.2-1.43.59L10.3 9.45l-7.72 7.72c-.78.78-.78 2.05 0 2.83L4 21.41c.39.39.9.59 1.41.59.51 0 1.02-.2 1.41-.59l7.78-7.78 2.81-2.81c.8-.78.8-2.07 0-2.86zM5.41 20L4 18.59l7.72-7.72 1.47 1.35L5.41 20z\"/>\n",
              "  </svg>\n",
              "      </button>\n",
              "      \n",
              "  <style>\n",
              "    .colab-df-container {\n",
              "      display:flex;\n",
              "      flex-wrap:wrap;\n",
              "      gap: 12px;\n",
              "    }\n",
              "\n",
              "    .colab-df-convert {\n",
              "      background-color: #E8F0FE;\n",
              "      border: none;\n",
              "      border-radius: 50%;\n",
              "      cursor: pointer;\n",
              "      display: none;\n",
              "      fill: #1967D2;\n",
              "      height: 32px;\n",
              "      padding: 0 0 0 0;\n",
              "      width: 32px;\n",
              "    }\n",
              "\n",
              "    .colab-df-convert:hover {\n",
              "      background-color: #E2EBFA;\n",
              "      box-shadow: 0px 1px 2px rgba(60, 64, 67, 0.3), 0px 1px 3px 1px rgba(60, 64, 67, 0.15);\n",
              "      fill: #174EA6;\n",
              "    }\n",
              "\n",
              "    [theme=dark] .colab-df-convert {\n",
              "      background-color: #3B4455;\n",
              "      fill: #D2E3FC;\n",
              "    }\n",
              "\n",
              "    [theme=dark] .colab-df-convert:hover {\n",
              "      background-color: #434B5C;\n",
              "      box-shadow: 0px 1px 3px 1px rgba(0, 0, 0, 0.15);\n",
              "      filter: drop-shadow(0px 1px 2px rgba(0, 0, 0, 0.3));\n",
              "      fill: #FFFFFF;\n",
              "    }\n",
              "  </style>\n",
              "\n",
              "      <script>\n",
              "        const buttonEl =\n",
              "          document.querySelector('#df-aeed3821-2149-47a5-b471-d3770c73547d button.colab-df-convert');\n",
              "        buttonEl.style.display =\n",
              "          google.colab.kernel.accessAllowed ? 'block' : 'none';\n",
              "\n",
              "        async function convertToInteractive(key) {\n",
              "          const element = document.querySelector('#df-aeed3821-2149-47a5-b471-d3770c73547d');\n",
              "          const dataTable =\n",
              "            await google.colab.kernel.invokeFunction('convertToInteractive',\n",
              "                                                     [key], {});\n",
              "          if (!dataTable) return;\n",
              "\n",
              "          const docLinkHtml = 'Like what you see? Visit the ' +\n",
              "            '<a target=\"_blank\" href=https://colab.research.google.com/notebooks/data_table.ipynb>data table notebook</a>'\n",
              "            + ' to learn more about interactive tables.';\n",
              "          element.innerHTML = '';\n",
              "          dataTable['output_type'] = 'display_data';\n",
              "          await google.colab.output.renderOutput(dataTable, element);\n",
              "          const docLink = document.createElement('div');\n",
              "          docLink.innerHTML = docLinkHtml;\n",
              "          element.appendChild(docLink);\n",
              "        }\n",
              "      </script>\n",
              "    </div>\n",
              "  </div>\n",
              "  "
            ]
          },
          "metadata": {},
          "execution_count": 7
        }
      ]
    },
    {
      "metadata": {
        "id": "ugm-dONnjym3"
      },
      "cell_type": "markdown",
      "source": [
        "Below we have plotted a **countplot** of different positions our balance-scale is in:"
      ]
    },
    {
      "metadata": {
        "id": "_QpSl1dKRHbg",
        "colab": {
          "base_uri": "https://localhost:8080/",
          "height": 356
        },
        "outputId": "f10ff20f-afe2-4130-bad1-b6894c40afdf"
      },
      "cell_type": "code",
      "source": [
        "sns.countplot(df['Class Name'])"
      ],
      "execution_count": 8,
      "outputs": [
        {
          "output_type": "stream",
          "name": "stderr",
          "text": [
            "/usr/local/lib/python3.7/dist-packages/seaborn/_decorators.py:43: FutureWarning: Pass the following variable as a keyword arg: x. From version 0.12, the only valid positional argument will be `data`, and passing other arguments without an explicit keyword will result in an error or misinterpretation.\n",
            "  FutureWarning\n"
          ]
        },
        {
          "output_type": "execute_result",
          "data": {
            "text/plain": [
              "<matplotlib.axes._subplots.AxesSubplot at 0x7fc750a01d50>"
            ]
          },
          "metadata": {},
          "execution_count": 8
        },
        {
          "output_type": "display_data",
          "data": {
            "text/plain": [
              "<Figure size 432x288 with 1 Axes>"
            ],
            "image/png": "[encoded data removed]"
          },
          "metadata": {
            "needs_background": "light"
          }
        }
      ]
    },
    {
      "metadata": {
        "id": "XRj2WlgHj8Dr"
      },
      "cell_type": "markdown",
      "source": [
        "We see here that most of the times either the scale is in *left* or *right* state. Very few cases are there in which the scale is *balanced.*"
      ]
    },
    {
      "metadata": {
        "id": "XjPzeS7-kSFu"
      },
      "cell_type": "markdown",
      "source": [
        "We'll separate the features and target from our dataset into X and y.\n",
        "\n",
        "X contains all of the features \n",
        "\n",
        "y contains the target"
      ]
    },
    {
      "metadata": {
        "id": "9lb3D8qBRYEr"
      },
      "cell_type": "code",
      "source": [
        "X = df.drop(['Class Name'], axis=1)"
      ],
      "execution_count": 9,
      "outputs": []
    },
    {
      "metadata": {
        "id": "mXX-zcGNW0E9"
      },
      "cell_type": "code",
      "source": [
        "y = df['Class Name']"
      ],
      "execution_count": 10,
      "outputs": []
    },
    {
      "metadata": {
        "id": "wgbcv0cbW4uX",
        "colab": {
          "base_uri": "https://localhost:8080/"
        },
        "outputId": "077956b4-b1ae-4d03-f9db-3ee8c8d8f7b0"
      },
      "cell_type": "code",
      "source": [
        "print(X.shape)\n",
        "print(y.shape)"
      ],
      "execution_count": 11,
      "outputs": [
        {
          "output_type": "stream",
          "name": "stdout",
          "text": [
            "(625, 4)\n",
            "(625,)\n"
          ]
        }
      ]
    },
    {
      "metadata": {
        "id": "JDsanodFlHRK"
      },
      "cell_type": "markdown",
      "source": [
        "## Train Test Split\n",
        "\n",
        "Splitting the data in training set which our model will be trained on, and testing set that our model will be tested on by making predictions."
      ]
    },
    {
      "metadata": {
        "id": "xDMjEbZlXRwt"
      },
      "cell_type": "code",
      "source": [
        "from sklearn.model_selection import train_test_split"
      ],
      "execution_count": 12,
      "outputs": []
    },
    {
      "metadata": {
        "id": "m9YlVkmzXlVR"
      },
      "cell_type": "code",
      "source": [
        "X_train, X_test, y_train, y_test = train_test_split(X, y, test_size=0.40, random_state=101)"
      ],
      "execution_count": 13,
      "outputs": []
    },
    {
      "metadata": {
        "id": "fw-1hUNtXvAP",
        "colab": {
          "base_uri": "https://localhost:8080/"
        },
        "outputId": "7b471195-fe2f-40e2-f0ce-ab78e265b9ba"
      },
      "cell_type": "code",
      "source": [
        "print(X_train.shape)\n",
        "print(X_test.shape)"
      ],
      "execution_count": 14,
      "outputs": [
        {
          "output_type": "stream",
          "name": "stdout",
          "text": [
            "(375, 4)\n",
            "(250, 4)\n"
          ]
        }
      ]
    },
    {
      "metadata": {
        "id": "xBe28hGKl3xH"
      },
      "cell_type": "markdown",
      "source": [
        "## Building and Training our Decision Tree Model"
      ]
    },
    {
      "metadata": {
        "id": "caxbf3tRX0gd"
      },
      "cell_type": "code",
      "source": [
        "from sklearn.tree import DecisionTreeClassifier"
      ],
      "execution_count": 15,
      "outputs": []
    },
    {
      "metadata": {
        "id": "nm8QvjDCl_5G"
      },
      "cell_type": "markdown",
      "source": [
        "### *gini* index as criterion"
      ]
    },
    {
      "metadata": {
        "id": "jNgVk6EhX_Ch"
      },
      "cell_type": "code",
      "source": [
        "giniDecisionTree = DecisionTreeClassifier(criterion='gini')"
      ],
      "execution_count": 16,
      "outputs": []
    },
    {
      "metadata": {
        "id": "uIsVm7ULYGwU",
        "colab": {
          "base_uri": "https://localhost:8080/"
        },
        "outputId": "c9b9cd1d-1468-4aa4-a850-e132e7618dc3"
      },
      "cell_type": "code",
      "source": [
        "giniDecisionTree.fit(X_train, y_train)"
      ],
      "execution_count": 17,
      "outputs": [
        {
          "output_type": "execute_result",
          "data": {
            "text/plain": [
              "DecisionTreeClassifier()"
            ]
          },
          "metadata": {},
          "execution_count": 17
        }
      ]
    },
    {
      "metadata": {
        "id": "a_WkD-9bmIfg"
      },
      "cell_type": "markdown",
      "source": [
        "### Predictions and Evaluation"
      ]
    },
    {
      "metadata": {
        "id": "q8xmgIDVYOVy"
      },
      "cell_type": "code",
      "source": [
        "giniPred = giniDecisionTree.predict(X_test)"
      ],
      "execution_count": 18,
      "outputs": []
    },
    {
      "metadata": {
        "id": "bD0Gk7xOYTG-"
      },
      "cell_type": "code",
      "source": [
        "from sklearn.metrics import accuracy_score, classification_report"
      ],
      "execution_count": 19,
      "outputs": []
    },
    {
      "metadata": {
        "id": "zmSpWULDYcbN",
        "colab": {
          "base_uri": "https://localhost:8080/"
        },
        "outputId": "c6999496-df0a-4617-e564-f7faa3a6ccd7"
      },
      "cell_type": "code",
      "source": [
        "print('Accuracy Score: ',accuracy_score(y_test, giniPred))"
      ],
      "execution_count": 20,
      "outputs": [
        {
          "output_type": "stream",
          "name": "stdout",
          "text": [
            "Accuracy Score:  0.744\n"
          ]
        }
      ]
    },
    {
      "metadata": {
        "id": "BAkNqD9vbWNe",
        "colab": {
          "base_uri": "https://localhost:8080/"
        },
        "outputId": "7833279e-17ab-479d-adbf-4f5db3ede2dc"
      },
      "cell_type": "code",
      "source": [
        "print('Classification Report')\n",
        "print(classification_report(y_test, giniPred))"
      ],
      "execution_count": 21,
      "outputs": [
        {
          "output_type": "stream",
          "name": "stdout",
          "text": [
            "Classification Report\n",
            "              precision    recall  f1-score   support\n",
            "\n",
            "           B       0.00      0.00      0.00        24\n",
            "           L       0.84      0.81      0.83       107\n",
            "           R       0.82      0.83      0.83       119\n",
            "\n",
            "    accuracy                           0.74       250\n",
            "   macro avg       0.56      0.55      0.55       250\n",
            "weighted avg       0.75      0.74      0.75       250\n",
            "\n"
          ]
        }
      ]
    },
    {
      "metadata": {
        "id": "hrqa9vOrm0G_"
      },
      "cell_type": "markdown",
      "source": [
        "### *entropy* as criterion"
      ]
    },
    {
      "metadata": {
        "id": "cVKpW3UtYiT0"
      },
      "cell_type": "code",
      "source": [
        "entropyDecisionTree = DecisionTreeClassifier(criterion='entropy')"
      ],
      "execution_count": 22,
      "outputs": []
    },
    {
      "metadata": {
        "id": "1LW4KstTYvyL",
        "colab": {
          "base_uri": "https://localhost:8080/"
        },
        "outputId": "bff8c60b-7541-453d-ec01-72a20241b9d7"
      },
      "cell_type": "code",
      "source": [
        "entropyDecisionTree.fit(X_train, y_train)"
      ],
      "execution_count": 23,
      "outputs": [
        {
          "output_type": "execute_result",
          "data": {
            "text/plain": [
              "DecisionTreeClassifier(criterion='entropy')"
            ]
          },
          "metadata": {},
          "execution_count": 23
        }
      ]
    },
    {
      "metadata": {
        "id": "zQw-QQQ4mX-L"
      },
      "cell_type": "markdown",
      "source": [
        "### Predictions and Evaluation"
      ]
    },
    {
      "metadata": {
        "id": "_65yX4frYy_8"
      },
      "cell_type": "code",
      "source": [
        "entropyPred = entropyDecisionTree.predict(X_test)"
      ],
      "execution_count": null,
      "outputs": []
    },
    {
      "metadata": {
        "id": "D7zIVSfEY30f",
        "colab": {
          "base_uri": "https://localhost:8080/",
          "height": 34
        },
        "outputId": "86aa4f2a-b30f-4981-ee53-6d0d99a7e728"
      },
      "cell_type": "code",
      "source": [
        "print('Accuracy Score: ',accuracy_score(y_test, entropyPred))"
      ],
      "execution_count": null,
      "outputs": [
        {
          "output_type": "stream",
          "text": [
            "Accuracy Score:  0.748\n"
          ],
          "name": "stdout"
        }
      ]
    },
    {
      "metadata": {
        "id": "1sfqB4ikbisO",
        "colab": {
          "base_uri": "https://localhost:8080/",
          "height": 153
        },
        "outputId": "dab54ed2-7ccb-46dd-bada-3a7fb8e344ed"
      },
      "cell_type": "code",
      "source": [
        "print(classification_report(y_test, entropyPred))"
      ],
      "execution_count": null,
      "outputs": [
        {
          "output_type": "stream",
          "text": [
            "             precision    recall  f1-score   support\n",
            "\n",
            "          B       0.00      0.00      0.00        24\n",
            "          L       0.84      0.82      0.83       107\n",
            "          R       0.85      0.83      0.84       119\n",
            "\n",
            "avg / total       0.76      0.75      0.76       250\n",
            "\n"
          ],
          "name": "stdout"
        }
      ]
    },
    {
      "metadata": {
        "id": "zvneIsBlnBX3"
      },
      "cell_type": "markdown",
      "source": [
        "## Using ensemble models\n",
        "\n",
        "# RandomForest Classifier"
      ]
    },
    {
      "metadata": {
        "id": "8RBCw25FY74f"
      },
      "cell_type": "code",
      "source": [
        "from sklearn.ensemble import RandomForestClassifier"
      ],
      "execution_count": 24,
      "outputs": []
    },
    {
      "metadata": {
        "id": "2ZjAOiqAm5JW"
      },
      "cell_type": "markdown",
      "source": [
        "### *gini* index as criterion"
      ]
    },
    {
      "metadata": {
        "id": "E2Vq_gEXZVkq"
      },
      "cell_type": "code",
      "source": [
        "giniForest = RandomForestClassifier(criterion='gini')"
      ],
      "execution_count": 25,
      "outputs": []
    },
    {
      "metadata": {
        "id": "WAdYtRktZbiz",
        "colab": {
          "base_uri": "https://localhost:8080/"
        },
        "outputId": "b1d8da1a-febb-4802-ca64-9bc437612dce"
      },
      "cell_type": "code",
      "source": [
        "giniForest.fit(X_train, y_train)"
      ],
      "execution_count": 26,
      "outputs": [
        {
          "output_type": "execute_result",
          "data": {
            "text/plain": [
              "RandomForestClassifier()"
            ]
          },
          "metadata": {},
          "execution_count": 26
        }
      ]
    },
    {
      "metadata": {
        "id": "wlOX4uhQmZuI"
      },
      "cell_type": "markdown",
      "source": [
        "### Predictions and Evaluation"
      ]
    },
    {
      "metadata": {
        "id": "v_VmkD_QZgad"
      },
      "cell_type": "code",
      "source": [
        "giniForestPred = giniForest.predict(X_test)"
      ],
      "execution_count": 27,
      "outputs": []
    },
    {
      "metadata": {
        "id": "ZwaUozHlZlgO",
        "colab": {
          "base_uri": "https://localhost:8080/"
        },
        "outputId": "40615ae9-d8da-464a-f55c-79b67da922b9"
      },
      "cell_type": "code",
      "source": [
        "print('Accuracy Score: ',accuracy_score(y_test, giniForestPred))"
      ],
      "execution_count": 28,
      "outputs": [
        {
          "output_type": "stream",
          "name": "stdout",
          "text": [
            "Accuracy Score:  0.812\n"
          ]
        }
      ]
    },
    {
      "metadata": {
        "id": "VCh8z1SqbnkE",
        "colab": {
          "base_uri": "https://localhost:8080/"
        },
        "outputId": "6501412d-2303-4cff-e963-d564fa107f87"
      },
      "cell_type": "code",
      "source": [
        "print(classification_report(y_test, giniForestPred))"
      ],
      "execution_count": 29,
      "outputs": [
        {
          "output_type": "stream",
          "name": "stdout",
          "text": [
            "              precision    recall  f1-score   support\n",
            "\n",
            "           B       0.00      0.00      0.00        24\n",
            "           L       0.83      0.89      0.86       107\n",
            "           R       0.89      0.91      0.90       119\n",
            "\n",
            "    accuracy                           0.81       250\n",
            "   macro avg       0.57      0.60      0.58       250\n",
            "weighted avg       0.77      0.81      0.79       250\n",
            "\n"
          ]
        }
      ]
    },
    {
      "metadata": {
        "id": "71doeoDNm8CY"
      },
      "cell_type": "markdown",
      "source": [
        "### *entropy* as criterion"
      ]
    },
    {
      "metadata": {
        "id": "E8pQ6SxQZp6f"
      },
      "cell_type": "code",
      "source": [
        "entropyForest = RandomForestClassifier(criterion='entropy')"
      ],
      "execution_count": 30,
      "outputs": []
    },
    {
      "metadata": {
        "id": "q9veKTbJZxJG",
        "colab": {
          "base_uri": "https://localhost:8080/"
        },
        "outputId": "359abd7c-8fad-42c6-97ed-e6c4e2be7c7a"
      },
      "cell_type": "code",
      "source": [
        "entropyForest.fit(X_train, y_train)"
      ],
      "execution_count": 31,
      "outputs": [
        {
          "output_type": "execute_result",
          "data": {
            "text/plain": [
              "RandomForestClassifier(criterion='entropy')"
            ]
          },
          "metadata": {},
          "execution_count": 31
        }
      ]
    },
    {
      "metadata": {
        "id": "10wFeFfRmbUS"
      },
      "cell_type": "markdown",
      "source": [
        "### Predictions and Evaluation"
      ]
    },
    {
      "metadata": {
        "id": "3ff-E_aAZ0BC"
      },
      "cell_type": "code",
      "source": [
        "entropyForestPred = entropyForest.predict(X_test)"
      ],
      "execution_count": 32,
      "outputs": []
    },
    {
      "metadata": {
        "id": "8CWuJ26bZ4Zd",
        "colab": {
          "base_uri": "https://localhost:8080/"
        },
        "outputId": "45fbaf2c-b32b-43e8-e946-49d4d24664ca"
      },
      "cell_type": "code",
      "source": [
        "print('Accuracy Score: ',accuracy_score(y_test, entropyForestPred))"
      ],
      "execution_count": 33,
      "outputs": [
        {
          "output_type": "stream",
          "name": "stdout",
          "text": [
            "Accuracy Score:  0.808\n"
          ]
        }
      ]
    },
    {
      "metadata": {
        "id": "MBAMkCPiZ8W9",
        "colab": {
          "base_uri": "https://localhost:8080/"
        },
        "outputId": "0ba8468a-b3e4-405a-f035-8ecd94551272"
      },
      "cell_type": "code",
      "source": [
        "print(classification_report(y_test, entropyForestPred))"
      ],
      "execution_count": 34,
      "outputs": [
        {
          "output_type": "stream",
          "name": "stdout",
          "text": [
            "              precision    recall  f1-score   support\n",
            "\n",
            "           B       0.00      0.00      0.00        24\n",
            "           L       0.81      0.89      0.85       107\n",
            "           R       0.90      0.90      0.90       119\n",
            "\n",
            "    accuracy                           0.81       250\n",
            "   macro avg       0.57      0.60      0.58       250\n",
            "weighted avg       0.78      0.81      0.79       250\n",
            "\n"
          ]
        }
      ]
    },
    {
      "metadata": {
        "id": "d-vsn47XoVAh"
      },
      "cell_type": "markdown",
      "source": [
        "# ExtraTree Classifier"
      ]
    },
    {
      "metadata": {
        "id": "TYDc6QWEbuE6"
      },
      "cell_type": "code",
      "source": [
        "from sklearn.ensemble import ExtraTreesClassifier"
      ],
      "execution_count": 35,
      "outputs": []
    },
    {
      "metadata": {
        "id": "_QMh5qYcohcX"
      },
      "cell_type": "markdown",
      "source": [
        "### *gini* index as criterion"
      ]
    },
    {
      "metadata": {
        "id": "6UCVJiLtofH4"
      },
      "cell_type": "code",
      "source": [
        "giniExtra = ExtraTreesClassifier(criterion='gini')"
      ],
      "execution_count": 36,
      "outputs": []
    },
    {
      "metadata": {
        "id": "uHWE9fEuoksO",
        "colab": {
          "base_uri": "https://localhost:8080/"
        },
        "outputId": "9e25f646-c39f-45cf-daf5-03b194802f84"
      },
      "cell_type": "code",
      "source": [
        "giniExtra.fit(X_train, y_train)"
      ],
      "execution_count": 37,
      "outputs": [
        {
          "output_type": "execute_result",
          "data": {
            "text/plain": [
              "ExtraTreesClassifier()"
            ]
          },
          "metadata": {},
          "execution_count": 37
        }
      ]
    },
    {
      "metadata": {
        "id": "9JyAakBOozpY"
      },
      "cell_type": "markdown",
      "source": [
        "### Predictions and Evaluation"
      ]
    },
    {
      "metadata": {
        "id": "6oGTx4kIopVC"
      },
      "cell_type": "code",
      "source": [
        "giniExtraPred = giniExtra.predict(X_test)"
      ],
      "execution_count": 38,
      "outputs": []
    },
    {
      "metadata": {
        "id": "i1zX07QyowBQ",
        "colab": {
          "base_uri": "https://localhost:8080/"
        },
        "outputId": "10ff7951-bd13-4af0-a572-3af2cce086d3"
      },
      "cell_type": "code",
      "source": [
        "print('Accuracy Score: ',accuracy_score(y_test, giniExtraPred))"
      ],
      "execution_count": 39,
      "outputs": [
        {
          "output_type": "stream",
          "name": "stdout",
          "text": [
            "Accuracy Score:  0.832\n"
          ]
        }
      ]
    },
    {
      "metadata": {
        "id": "kGncnzQOo4y6",
        "colab": {
          "base_uri": "https://localhost:8080/"
        },
        "outputId": "ec36e4c2-50c8-4911-c30f-a7d0b760a781"
      },
      "cell_type": "code",
      "source": [
        "print(classification_report(y_test, giniExtraPred))"
      ],
      "execution_count": 40,
      "outputs": [
        {
          "output_type": "stream",
          "name": "stdout",
          "text": [
            "              precision    recall  f1-score   support\n",
            "\n",
            "           B       0.00      0.00      0.00        24\n",
            "           L       0.85      0.92      0.88       107\n",
            "           R       0.90      0.92      0.91       119\n",
            "\n",
            "    accuracy                           0.83       250\n",
            "   macro avg       0.58      0.61      0.60       250\n",
            "weighted avg       0.79      0.83      0.81       250\n",
            "\n"
          ]
        }
      ]
    },
    {
      "metadata": {
        "id": "dKXY73IOo_JP"
      },
      "cell_type": "markdown",
      "source": [
        "### *entropy* as criterion"
      ]
    },
    {
      "metadata": {
        "id": "NTgKTqMTo9Z1"
      },
      "cell_type": "code",
      "source": [
        "entropyExtra = ExtraTreesClassifier(criterion='entropy')"
      ],
      "execution_count": 41,
      "outputs": []
    },
    {
      "metadata": {
        "id": "uDk-EvstpKNK",
        "colab": {
          "base_uri": "https://localhost:8080/"
        },
        "outputId": "3e1a0b1b-6ae0-48e8-997d-34e16b5d0566"
      },
      "cell_type": "code",
      "source": [
        "entropyExtra.fit(X_train, y_train)"
      ],
      "execution_count": 42,
      "outputs": [
        {
          "output_type": "execute_result",
          "data": {
            "text/plain": [
              "ExtraTreesClassifier(criterion='entropy')"
            ]
          },
          "metadata": {},
          "execution_count": 42
        }
      ]
    },
    {
      "metadata": {
        "id": "zSdPUZ7hpPzn"
      },
      "cell_type": "markdown",
      "source": [
        "### Predictions and Evaluation"
      ]
    },
    {
      "metadata": {
        "id": "zjBaOhn2pOdU"
      },
      "cell_type": "code",
      "source": [
        "entropyExtraPred = entropyExtra.predict(X_test)"
      ],
      "execution_count": 43,
      "outputs": []
    },
    {
      "metadata": {
        "id": "Ci-7dDC-pX6j",
        "colab": {
          "base_uri": "https://localhost:8080/"
        },
        "outputId": "7c87dbd0-470d-421c-858f-27782981e6f3"
      },
      "cell_type": "code",
      "source": [
        "print('Accuracy Score: ',accuracy_score(y_test, entropyExtraPred))"
      ],
      "execution_count": 44,
      "outputs": [
        {
          "output_type": "stream",
          "name": "stdout",
          "text": [
            "Accuracy Score:  0.816\n"
          ]
        }
      ]
    },
    {
      "metadata": {
        "id": "6c9y59P_pcTD",
        "colab": {
          "base_uri": "https://localhost:8080/"
        },
        "outputId": "7c153601-5fc7-41ee-a06f-8d4cbaae06f4"
      },
      "cell_type": "code",
      "source": [
        "print(classification_report(y_test, entropyExtraPred))"
      ],
      "execution_count": 45,
      "outputs": [
        {
          "output_type": "stream",
          "name": "stdout",
          "text": [
            "              precision    recall  f1-score   support\n",
            "\n",
            "           B       0.00      0.00      0.00        24\n",
            "           L       0.85      0.88      0.87       107\n",
            "           R       0.87      0.92      0.89       119\n",
            "\n",
            "    accuracy                           0.82       250\n",
            "   macro avg       0.57      0.60      0.59       250\n",
            "weighted avg       0.78      0.82      0.80       250\n",
            "\n"
          ]
        }
      ]
    }
  ]
}